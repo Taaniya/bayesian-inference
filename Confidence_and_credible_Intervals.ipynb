{
  "nbformat": 4,
  "nbformat_minor": 0,
  "metadata": {
    "colab": {
      "name": "Confidence_and_credible_Intervals.ipynb",
      "provenance": [],
      "collapsed_sections": []
    },
    "kernelspec": {
      "name": "python3",
      "display_name": "Python 3"
    }
  },
  "cells": [
    {
      "cell_type": "code",
      "metadata": {
        "id": "x_hOprCiGTU5"
      },
      "source": [
        "! pip install pymc3 --upgrade"
      ],
      "execution_count": null,
      "outputs": []
    },
    {
      "cell_type": "code",
      "metadata": {
        "id": "RHm-gsnMIC_d"
      },
      "source": [
        "import pymc3"
      ],
      "execution_count": null,
      "outputs": []
    },
    {
      "cell_type": "code",
      "metadata": {
        "id": "RyTgQ8pHEY7h"
      },
      "source": [
        "! pip install arviz"
      ],
      "execution_count": null,
      "outputs": []
    },
    {
      "cell_type": "code",
      "metadata": {
        "id": "qTQ5HHZrxcDS"
      },
      "source": [
        "from scipy import stats\n",
        "from statsmodels.stats import proportion\n",
        "import numpy as np\n",
        "import matplotlib.pyplot as plt\n",
        "import seaborn as sns\n",
        "import arviz as az\n",
        "import pymc3 as pm"
      ],
      "execution_count": null,
      "outputs": []
    },
    {
      "cell_type": "markdown",
      "metadata": {
        "id": "rRkrgGjz-sif"
      },
      "source": [
        "### Example 1\n"
      ]
    },
    {
      "cell_type": "code",
      "metadata": {
        "id": "Avbks32m2M1S"
      },
      "source": [
        "# Estimating population mean of observations generated from Poisson distribution\n",
        "event_rate = 1000                             # true population mean\n",
        "p_sample_size = 10\n",
        "p_n_samples = 10000\n",
        "poisson_samples = stats.poisson(event_rate).rvs(size=(p_n_samples,p_sample_size))        # Generate samples "
      ],
      "execution_count": null,
      "outputs": []
    },
    {
      "cell_type": "code",
      "metadata": {
        "id": "kEpPU1x-2jIw",
        "outputId": "076ecfb7-5cf3-4be8-9c20-8b50aee4cf65",
        "colab": {
          "base_uri": "https://localhost:8080/",
          "height": 34
        }
      },
      "source": [
        "# computing sample means\n",
        "sample_avg = poisson_samples.mean(1)\n",
        "sample_avg"
      ],
      "execution_count": null,
      "outputs": [
        {
          "output_type": "execute_result",
          "data": {
            "text/plain": [
              "array([ 998. ,  995.6,  989.3, ...,  991.1,  965.4, 1010.5])"
            ]
          },
          "metadata": {
            "tags": []
          },
          "execution_count": 13
        }
      ]
    },
    {
      "cell_type": "code",
      "metadata": {
        "id": "ZDZg-Gzq21IE",
        "outputId": "e1dedd8e-47e3-4d41-8d71-37d0c240b247",
        "colab": {
          "base_uri": "https://localhost:8080/",
          "height": 34
        }
      },
      "source": [
        "# Mean of sample means\n",
        "estimated_mean = sample_avg.mean()\n",
        "estimated_mean"
      ],
      "execution_count": null,
      "outputs": [
        {
          "output_type": "execute_result",
          "data": {
            "text/plain": [
              "999.9785199999999"
            ]
          },
          "metadata": {
            "tags": []
          },
          "execution_count": 29
        }
      ]
    },
    {
      "cell_type": "code",
      "metadata": {
        "id": "gPj0YyGz4aXe",
        "outputId": "4a1601dd-eb50-433e-b8b6-115c52801cf3",
        "colab": {
          "base_uri": "https://localhost:8080/",
          "height": 279
        }
      },
      "source": [
        "# The distribution of means follow normal distribution - Central Limit Theorem\n",
        "plt.hist(sample_avg, histtype='stepfilled', density=True, bins=40)\n",
        "plt.xlabel(\"sample means\")\n",
        "plt.show()"
      ],
      "execution_count": null,
      "outputs": [
        {
          "output_type": "display_data",
          "data": {
            "image/png": "[encoded data removed]",
            "text/plain": [
              "<Figure size 432x288 with 1 Axes>"
            ]
          },
          "metadata": {
            "tags": [],
            "needs_background": "light"
          }
        }
      ]
    },
    {
      "cell_type": "markdown",
      "metadata": {
        "id": "3XjpO1Wq5fKr"
      },
      "source": [
        "This implies that out of all the N sample means in this distribution, 95% of them are within 2 standard deviations from the mean.\n",
        "\n",
        "So, if we sample multiple times from any true population , compute the sample mean, and create a confidence interval for 95% confidence around it each time, then 95% of times that interval will contain the true population mean.\n",
        "\n",
        "If the computed mean from a sample is beyond 2 standard deviation from the true population mean, then computing a confidence interval around that sample mean wouldn't contain the true population mean."
      ]
    },
    {
      "cell_type": "markdown",
      "metadata": {
        "id": "aRKDl8_C9avr"
      },
      "source": [
        "### Computing confidence intervals\n",
        "\n",
        "$ CI = \\mu \\pm 1.96 S.E $\n",
        "\n",
        "$S.E = \\frac{\\sigma}{\\sqrt n}$\n",
        "\n",
        "$\\mu $ - sample mean\n",
        "\n",
        "n - sample size\n",
        "\n",
        "$\\sigma$ - sample standard deviation \n",
        "\n",
        "S.E - Standard Error\n",
        "\n",
        "It indicates how far from the true paramater is our value of the parameter estimated from sampling.\n",
        "\n",
        "### Example 2\n"
      ]
    },
    {
      "cell_type": "markdown",
      "metadata": {
        "id": "mzCuo1LIganK"
      },
      "source": [
        "\n",
        "We flipped a coin 100 times resulting in 44H and 56 T\n",
        "\n",
        "so, P(h) = 0.44\n",
        "\n",
        "$ X_i$ ~ Bernoulli(p) \n",
        "\n",
        "$\\sum_i^n X$ ~ B(n, p) \n",
        "\n",
        "By CLT, the sample characteristic (here p i.e P(H)) follows a normal distribution after drawing enough samples from the population\n",
        "\n",
        "i.e P(H) ~ N(p, p(1-p))              \n",
        "\n"
      ]
    },
    {
      "cell_type": "code",
      "metadata": {
        "id": "Xe6QCvAFgPnB",
        "outputId": "4851c174-4c55-4e23-f3f7-3fcd24ea4cbf",
        "colab": {
          "base_uri": "https://localhost:8080/",
          "height": 34
        }
      },
      "source": [
        "# considering the above event as one of the samples of size 100 drawn from the true Binomial distribution, \n",
        "# sum of X_i\n",
        "num_samples = 1                                      # 1 Binomial event with 100 bernoulli trials\n",
        "n_trials = 100\n",
        "p = 0.44\n",
        "sample_mean = p*n_trials                             # Expectation of Binomial distribution will be the mean of Normal distribution acc. to CLT\n",
        "sample_std = np.sqrt(n_trials*p*(1-p))               # Std of Binomial distribution  will be the std of normal distribution by CLT\n",
        "standard_error = sample_std/np.sqrt(num_samples)\n",
        "\n",
        "(sample_mean - 1.96*standard_error, sample_mean + 1.96*standard_error)"
      ],
      "execution_count": null,
      "outputs": [
        {
          "output_type": "execute_result",
          "data": {
            "text/plain": [
              "(34.27081586154317, 53.72918413845683)"
            ]
          },
          "metadata": {
            "tags": []
          },
          "execution_count": 26
        }
      ]
    },
    {
      "cell_type": "code",
      "metadata": {
        "id": "QkHz6z_aVNwc",
        "outputId": "9bd08310-dbac-4d73-c570-9242fc09c44f",
        "colab": {
          "base_uri": "https://localhost:8080/",
          "height": 34
        }
      },
      "source": [
        "sample_mean, sample_std"
      ],
      "execution_count": null,
      "outputs": [
        {
          "output_type": "execute_result",
          "data": {
            "text/plain": [
              "(44.0, 4.963869458396343)"
            ]
          },
          "metadata": {
            "tags": []
          },
          "execution_count": 27
        }
      ]
    },
    {
      "cell_type": "code",
      "metadata": {
        "id": "zWYHISkfwskG",
        "outputId": "bca04f2e-970d-475f-d714-cacff662d236",
        "colab": {
          "base_uri": "https://localhost:8080/",
          "height": 34
        }
      },
      "source": [
        "# Using builtin method to compute intervals as alpha % confidence to verify \n",
        "CI = stats.norm.interval(alpha=0.95, loc=sample_mean, scale=standard_error) \n",
        "CI"
      ],
      "execution_count": null,
      "outputs": [
        {
          "output_type": "execute_result",
          "data": {
            "text/plain": [
              "(34.27099463758482, 53.72900536241518)"
            ]
          },
          "metadata": {
            "tags": []
          },
          "execution_count": 28
        }
      ]
    },
    {
      "cell_type": "markdown",
      "metadata": {
        "id": "xx4buhdav77z"
      },
      "source": [
        "The above is a CI for Binomial distribution with mean n_trials * p.\n",
        "The CI for Bernoulli distribution with parameter p can be obtained by dividing the above value by n_trials\n",
        "CI for probability of heads for Bernoulli trial - \n"
      ]
    },
    {
      "cell_type": "code",
      "metadata": {
        "id": "-jzvX2vGvUSI",
        "outputId": "0545faf6-d473-4ccb-d3c4-e186c96870a9",
        "colab": {
          "base_uri": "https://localhost:8080/",
          "height": 34
        }
      },
      "source": [
        "CI[0]/n_trials, CI[1]/n_trials"
      ],
      "execution_count": null,
      "outputs": [
        {
          "output_type": "execute_result",
          "data": {
            "text/plain": [
              "(0.34270994637584823, 0.5372900536241518)"
            ]
          },
          "metadata": {
            "tags": []
          },
          "execution_count": 29
        }
      ]
    },
    {
      "cell_type": "code",
      "metadata": {
        "id": "tFfT61mYqeas",
        "outputId": "848f0de2-aebd-4012-e239-19846f1a74d9",
        "colab": {
          "base_uri": "https://localhost:8080/",
          "height": 34
        }
      },
      "source": [
        "# Using builtin function to derive confidence interval for p in Binomial distribution\n",
        "\n",
        "proportion.proportion_confint(count=44, nobs=100, alpha=0.05)"
      ],
      "execution_count": null,
      "outputs": [
        {
          "output_type": "execute_result",
          "data": {
            "text/plain": [
              "(0.34270994637584823, 0.5372900536241518)"
            ]
          },
          "metadata": {
            "tags": []
          },
          "execution_count": 30
        }
      ]
    },
    {
      "cell_type": "code",
      "metadata": {
        "id": "LsM1X1pUjuhF",
        "outputId": "88fa437f-9a82-4935-fa7d-08e011b0086f",
        "colab": {
          "base_uri": "https://localhost:8080/",
          "height": 34
        }
      },
      "source": [
        "stats.binom.interval(alpha=0.95, n=100, p=0.44, )"
      ],
      "execution_count": null,
      "outputs": [
        {
          "output_type": "execute_result",
          "data": {
            "text/plain": [
              "(34.0, 54.0)"
            ]
          },
          "metadata": {
            "tags": []
          },
          "execution_count": 8
        }
      ]
    },
    {
      "cell_type": "markdown",
      "metadata": {
        "id": "S-BjLfo9vnWn"
      },
      "source": [
        "This is interpreted as the interval which has 95% probability of containing the true value of parameter being estimated (here probability of heads) i.e\n",
        "when we sample from the true population multiple times and generate confidence intervals for the estimation of probability of heads, 95% of the confidence intervals will contain the true value of this probability.\n",
        "\n",
        "Frequentist confidence intervals represent the range within which the **interval** has the probability of containing the true value of the parameter i.e an uncertainty associated with the interval, whereas bayesian approach's credible intervals represent the range within which the **true value** of the parameter is most likely to lie i.e an uncertainty associated with the parameter being estimated.\n",
        "\n",
        "### Example 3"
      ]
    },
    {
      "cell_type": "code",
      "metadata": {
        "id": "Ik3cQns1yt0O"
      },
      "source": [
        "true_value = 100\n",
        "sigma = 10\n",
        "sample_size = 3\n",
        "\n",
        "np.random.seed(1)\n",
        "\n",
        "samples = np.random.normal(true_value, sigma, size=3)"
      ],
      "execution_count": null,
      "outputs": []
    },
    {
      "cell_type": "code",
      "metadata": {
        "id": "rWw_yr0aHpHm",
        "outputId": "250b8982-f829-4f3f-ddb4-2644a946616f",
        "colab": {
          "base_uri": "https://localhost:8080/",
          "height": 34
        }
      },
      "source": [
        "samples"
      ],
      "execution_count": null,
      "outputs": [
        {
          "output_type": "execute_result",
          "data": {
            "text/plain": [
              "array([116.24345364,  93.88243586,  94.71828248])"
            ]
          },
          "metadata": {
            "tags": []
          },
          "execution_count": 23
        }
      ]
    },
    {
      "cell_type": "code",
      "metadata": {
        "id": "akn4ecnmzM3B",
        "outputId": "dba49779-7908-43a5-913e-869561be546e",
        "colab": {
          "base_uri": "https://localhost:8080/",
          "height": 34
        }
      },
      "source": [
        "sample_mean, sample_std = samples.mean(), samples.std()\n",
        "sample_mean, sample_std"
      ],
      "execution_count": null,
      "outputs": [
        {
          "output_type": "execute_result",
          "data": {
            "text/plain": [
              "(101.61472399249904, 10.34970074096631)"
            ]
          },
          "metadata": {
            "tags": []
          },
          "execution_count": 24
        }
      ]
    },
    {
      "cell_type": "code",
      "metadata": {
        "id": "ZvHdN3sjLOKo",
        "outputId": "9ea6b3df-5807-4184-f4e6-cf08bfbae3c9",
        "colab": {
          "base_uri": "https://localhost:8080/",
          "height": 34
        }
      },
      "source": [
        "# standard error of mean calculated from population std and size of samples\n",
        "sem = sigma * sample_size ** -0.5\n",
        "\n",
        "sample_mean - 1.96*sem , sample_mean + 1.96*sem"
      ],
      "execution_count": null,
      "outputs": [
        {
          "output_type": "execute_result",
          "data": {
            "text/plain": [
              "(90.29865871638238, 112.9307892686157)"
            ]
          },
          "metadata": {
            "tags": []
          },
          "execution_count": 25
        }
      ]
    },
    {
      "cell_type": "code",
      "metadata": {
        "id": "eZmaPUT9MSG2",
        "outputId": "057441a0-9044-46ad-a139-24add2ad9dd8",
        "colab": {
          "base_uri": "https://localhost:8080/",
          "height": 34
        }
      },
      "source": [
        "# Verifying the above with builtin function\n",
        "\n",
        "stats.norm.interval(alpha=0.95, loc=sample_mean, scale=sem )"
      ],
      "execution_count": null,
      "outputs": [
        {
          "output_type": "execute_result",
          "data": {
            "text/plain": [
              "(90.29886665173731, 112.93058133326076)"
            ]
          },
          "metadata": {
            "tags": []
          },
          "execution_count": 26
        }
      ]
    },
    {
      "cell_type": "markdown",
      "metadata": {
        "id": "A1vXM66iBePM"
      },
      "source": [
        "### Posterior interval estimates by credible regions\n",
        "\n",
        "Credible interval - single parameter\n",
        "\n",
        "Credible region - multivariate distributions\n",
        "\n",
        "$ P(a \\le \\theta \\le b | x) = 1 - \\alpha $\n",
        "\n",
        "$\\int_a^b P(\\theta|x)d\\theta = 1 - \\alpha $\n",
        "\n",
        "1. Equal tailed interval\n",
        "2. Highest Posterior density \n",
        "\n",
        "Equal tailed intervals can be obtained when the posterior distribution is symmetric. The parameter has equal probability in each tail. Can be computed using quantile method.\n",
        "\n",
        "$P(\\theta|x < a ) = 1 - \\frac{\\alpha}{2}$\n",
        "\n",
        "$P(\\theta|x > b) = 1 - \\frac{\\alpha}{2}$\n",
        "\n",
        "Highest Posterior density Interval is the shortest interval with highest probability density and is useful when the posterior density is not symmetric.\n",
        "There can be multiple intervals satisfying the confidence level, so here HPD chooses the narrowest of these intervals.\n",
        "\n",
        "### Example\n"
      ]
    },
    {
      "cell_type": "code",
      "metadata": {
        "id": "ksByEtrXB8it",
        "outputId": "fd34aca6-73f6-4105-cb48-bda16436eb4f",
        "colab": {
          "base_uri": "https://localhost:8080/",
          "height": 438
        }
      },
      "source": [
        "obs = np.random.normal(loc=0.5, scale=0.35, size=2000)\n",
        "\n",
        "with pm.Model() as model:\n",
        "  std = pm.HalfNormal('sigma',sd=0.05)   \n",
        "  mu = pm.Normal('mu',mu=0.0, sd=0.05)\n",
        "\n",
        "  likelihood = pm.Normal('y',mu=mu, sd=std, observed=obs)\n",
        "\n",
        "  trace = pm.sample(1000)            # Uses NUTS sampler by default, based on Hamiltonian Monte Carlo\n",
        "\n",
        "  pm.traceplot(trace, ['mu', 'sigma'])\n",
        "  plt.show()"
      ],
      "execution_count": null,
      "outputs": [
        {
          "output_type": "stream",
          "text": [
            "Auto-assigning NUTS sampler...\n",
            "Initializing NUTS using jitter+adapt_diag...\n",
            "Sequential sampling (2 chains in 1 job)\n",
            "NUTS: [mu, sigma]\n"
          ],
          "name": "stderr"
        },
        {
          "output_type": "display_data",
          "data": {
            "text/html": [
              "\n",
              "    <div>\n",
              "        <style>\n",
              "            /* Turns off some styling */\n",
              "            progress {\n",
              "                /* gets rid of default border in Firefox and Opera. */\n",
              "                border: none;\n",
              "                /* Needs to be in here for Safari polyfill so background images work as expected. */\n",
              "                background-size: auto;\n",
              "            }\n",
              "            .progress-bar-interrupted, .progress-bar-interrupted::-webkit-progress-bar {\n",
              "                background: #F44336;\n",
              "            }\n",
              "        </style>\n",
              "      <progress value='2000' class='' max='2000' style='width:300px; height:20px; vertical-align: middle;'></progress>\n",
              "      100.00% [2000/2000 00:02<00:00 Sampling chain 0, 0 divergences]\n",
              "    </div>\n",
              "    "
            ],
            "text/plain": [
              "<IPython.core.display.HTML object>"
            ]
          },
          "metadata": {
            "tags": []
          }
        },
        {
          "output_type": "display_data",
          "data": {
            "text/html": [
              "\n",
              "    <div>\n",
              "        <style>\n",
              "            /* Turns off some styling */\n",
              "            progress {\n",
              "                /* gets rid of default border in Firefox and Opera. */\n",
              "                border: none;\n",
              "                /* Needs to be in here for Safari polyfill so background images work as expected. */\n",
              "                background-size: auto;\n",
              "            }\n",
              "            .progress-bar-interrupted, .progress-bar-interrupted::-webkit-progress-bar {\n",
              "                background: #F44336;\n",
              "            }\n",
              "        </style>\n",
              "      <progress value='2000' class='' max='2000' style='width:300px; height:20px; vertical-align: middle;'></progress>\n",
              "      100.00% [2000/2000 00:02<00:00 Sampling chain 1, 0 divergences]\n",
              "    </div>\n",
              "    "
            ],
            "text/plain": [
              "<IPython.core.display.HTML object>"
            ]
          },
          "metadata": {
            "tags": []
          }
        },
        {
          "output_type": "stream",
          "text": [
            "Sampling 2 chains for 1_000 tune and 1_000 draw iterations (2_000 + 2_000 draws total) took 4 seconds.\n"
          ],
          "name": "stderr"
        },
        {
          "output_type": "display_data",
          "data": {
            "image/png": "[encoded data removed]",
            "text/plain": [
              "<Figure size 864x288 with 4 Axes>"
            ]
          },
          "metadata": {
            "tags": [],
            "needs_background": "light"
          }
        }
      ]
    },
    {
      "cell_type": "code",
      "metadata": {
        "id": "JdNeag8-CV_7",
        "outputId": "a8c32382-95c3-44ce-8e08-43d02aa32128",
        "colab": {
          "base_uri": "https://localhost:8080/",
          "height": 201
        }
      },
      "source": [
        "az.hdi(trace, hdi_prob=0.95)"
      ],
      "execution_count": null,
      "outputs": [
        {
          "output_type": "execute_result",
          "data": {
            "text/html": [
              "<div><svg style=\"position: absolute; width: 0; height: 0; overflow: hidden\">\n",
              "<defs>\n",
              "<symbol id=\"icon-database\" viewBox=\"0 0 32 32\">\n",
              "<title>Show/Hide data repr</title>\n",
              "<path d=\"M16 0c-8.837 0-16 2.239-16 5v4c0 2.761 7.163 5 16 5s16-2.239 16-5v-4c0-2.761-7.163-5-16-5z\"></path>\n",
              "<path d=\"M16 17c-8.837 0-16-2.239-16-5v6c0 2.761 7.163 5 16 5s16-2.239 16-5v-6c0 2.761-7.163 5-16 5z\"></path>\n",
              "<path d=\"M16 26c-8.837 0-16-2.239-16-5v6c0 2.761 7.163 5 16 5s16-2.239 16-5v-6c0 2.761-7.163 5-16 5z\"></path>\n",
              "</symbol>\n",
              "<symbol id=\"icon-file-text2\" viewBox=\"0 0 32 32\">\n",
              "<title>Show/Hide attributes</title>\n",
              "<path d=\"M28.681 7.159c-0.694-0.947-1.662-2.053-2.724-3.116s-2.169-2.030-3.116-2.724c-1.612-1.182-2.393-1.319-2.841-1.319h-15.5c-1.378 0-2.5 1.121-2.5 2.5v27c0 1.378 1.122 2.5 2.5 2.5h23c1.378 0 2.5-1.122 2.5-2.5v-19.5c0-0.448-0.137-1.23-1.319-2.841zM24.543 5.457c0.959 0.959 1.712 1.825 2.268 2.543h-4.811v-4.811c0.718 0.556 1.584 1.309 2.543 2.268zM28 29.5c0 0.271-0.229 0.5-0.5 0.5h-23c-0.271 0-0.5-0.229-0.5-0.5v-27c0-0.271 0.229-0.5 0.5-0.5 0 0 15.499-0 15.5 0v7c0 0.552 0.448 1 1 1h7v19.5z\"></path>\n",
              "<path d=\"M23 26h-14c-0.552 0-1-0.448-1-1s0.448-1 1-1h14c0.552 0 1 0.448 1 1s-0.448 1-1 1z\"></path>\n",
              "<path d=\"M23 22h-14c-0.552 0-1-0.448-1-1s0.448-1 1-1h14c0.552 0 1 0.448 1 1s-0.448 1-1 1z\"></path>\n",
              "<path d=\"M23 18h-14c-0.552 0-1-0.448-1-1s0.448-1 1-1h14c0.552 0 1 0.448 1 1s-0.448 1-1 1z\"></path>\n",
              "</symbol>\n",
              "</defs>\n",
              "</svg>\n",
              "<style>/* CSS stylesheet for displaying xarray objects in jupyterlab.\n",
              " *\n",
              " */\n",
              "\n",
              ":root {\n",
              "  --xr-font-color0: var(--jp-content-font-color0, rgba(0, 0, 0, 1));\n",
              "  --xr-font-color2: var(--jp-content-font-color2, rgba(0, 0, 0, 0.54));\n",
              "  --xr-font-color3: var(--jp-content-font-color3, rgba(0, 0, 0, 0.38));\n",
              "  --xr-border-color: var(--jp-border-color2, #e0e0e0);\n",
              "  --xr-disabled-color: var(--jp-layout-color3, #bdbdbd);\n",
              "  --xr-background-color: var(--jp-layout-color0, white);\n",
              "  --xr-background-color-row-even: var(--jp-layout-color1, white);\n",
              "  --xr-background-color-row-odd: var(--jp-layout-color2, #eeeeee);\n",
              "}\n",
              "\n",
              ".xr-wrap {\n",
              "  min-width: 300px;\n",
              "  max-width: 700px;\n",
              "}\n",
              "\n",
              ".xr-header {\n",
              "  padding-top: 6px;\n",
              "  padding-bottom: 6px;\n",
              "  margin-bottom: 4px;\n",
              "  border-bottom: solid 1px var(--xr-border-color);\n",
              "}\n",
              "\n",
              ".xr-header > div,\n",
              ".xr-header > ul {\n",
              "  display: inline;\n",
              "  margin-top: 0;\n",
              "  margin-bottom: 0;\n",
              "}\n",
              "\n",
              ".xr-obj-type,\n",
              ".xr-array-name {\n",
              "  margin-left: 2px;\n",
              "  margin-right: 10px;\n",
              "}\n",
              "\n",
              ".xr-obj-type {\n",
              "  color: var(--xr-font-color2);\n",
              "}\n",
              "\n",
              ".xr-sections {\n",
              "  padding-left: 0 !important;\n",
              "  display: grid;\n",
              "  grid-template-columns: 150px auto auto 1fr 20px 20px;\n",
              "}\n",
              "\n",
              ".xr-section-item {\n",
              "  display: contents;\n",
              "}\n",
              "\n",
              ".xr-section-item input {\n",
              "  display: none;\n",
              "}\n",
              "\n",
              ".xr-section-item input + label {\n",
              "  color: var(--xr-disabled-color);\n",
              "}\n",
              "\n",
              ".xr-section-item input:enabled + label {\n",
              "  cursor: pointer;\n",
              "  color: var(--xr-font-color2);\n",
              "}\n",
              "\n",
              ".xr-section-item input:enabled + label:hover {\n",
              "  color: var(--xr-font-color0);\n",
              "}\n",
              "\n",
              ".xr-section-summary {\n",
              "  grid-column: 1;\n",
              "  color: var(--xr-font-color2);\n",
              "  font-weight: 500;\n",
              "}\n",
              "\n",
              ".xr-section-summary > span {\n",
              "  display: inline-block;\n",
              "  padding-left: 0.5em;\n",
              "}\n",
              "\n",
              ".xr-section-summary-in:disabled + label {\n",
              "  color: var(--xr-font-color2);\n",
              "}\n",
              "\n",
              ".xr-section-summary-in + label:before {\n",
              "  display: inline-block;\n",
              "  content: '►';\n",
              "  font-size: 11px;\n",
              "  width: 15px;\n",
              "  text-align: center;\n",
              "}\n",
              "\n",
              ".xr-section-summary-in:disabled + label:before {\n",
              "  color: var(--xr-disabled-color);\n",
              "}\n",
              "\n",
              ".xr-section-summary-in:checked + label:before {\n",
              "  content: '▼';\n",
              "}\n",
              "\n",
              ".xr-section-summary-in:checked + label > span {\n",
              "  display: none;\n",
              "}\n",
              "\n",
              ".xr-section-summary,\n",
              ".xr-section-inline-details {\n",
              "  padding-top: 4px;\n",
              "  padding-bottom: 4px;\n",
              "}\n",
              "\n",
              ".xr-section-inline-details {\n",
              "  grid-column: 2 / -1;\n",
              "}\n",
              "\n",
              ".xr-section-details {\n",
              "  display: none;\n",
              "  grid-column: 1 / -1;\n",
              "  margin-bottom: 5px;\n",
              "}\n",
              "\n",
              ".xr-section-summary-in:checked ~ .xr-section-details {\n",
              "  display: contents;\n",
              "}\n",
              "\n",
              ".xr-array-wrap {\n",
              "  grid-column: 1 / -1;\n",
              "  display: grid;\n",
              "  grid-template-columns: 20px auto;\n",
              "}\n",
              "\n",
              ".xr-array-wrap > label {\n",
              "  grid-column: 1;\n",
              "  vertical-align: top;\n",
              "}\n",
              "\n",
              ".xr-preview {\n",
              "  color: var(--xr-font-color3);\n",
              "}\n",
              "\n",
              ".xr-array-preview,\n",
              ".xr-array-data {\n",
              "  padding: 0 5px !important;\n",
              "  grid-column: 2;\n",
              "}\n",
              "\n",
              ".xr-array-data,\n",
              ".xr-array-in:checked ~ .xr-array-preview {\n",
              "  display: none;\n",
              "}\n",
              "\n",
              ".xr-array-in:checked ~ .xr-array-data,\n",
              ".xr-array-preview {\n",
              "  display: inline-block;\n",
              "}\n",
              "\n",
              ".xr-dim-list {\n",
              "  display: inline-block !important;\n",
              "  list-style: none;\n",
              "  padding: 0 !important;\n",
              "  margin: 0;\n",
              "}\n",
              "\n",
              ".xr-dim-list li {\n",
              "  display: inline-block;\n",
              "  padding: 0;\n",
              "  margin: 0;\n",
              "}\n",
              "\n",
              ".xr-dim-list:before {\n",
              "  content: '(';\n",
              "}\n",
              "\n",
              ".xr-dim-list:after {\n",
              "  content: ')';\n",
              "}\n",
              "\n",
              ".xr-dim-list li:not(:last-child):after {\n",
              "  content: ',';\n",
              "  padding-right: 5px;\n",
              "}\n",
              "\n",
              ".xr-has-index {\n",
              "  font-weight: bold;\n",
              "}\n",
              "\n",
              ".xr-var-list,\n",
              ".xr-var-item {\n",
              "  display: contents;\n",
              "}\n",
              "\n",
              ".xr-var-item > div,\n",
              ".xr-var-item label,\n",
              ".xr-var-item > .xr-var-name span {\n",
              "  background-color: var(--xr-background-color-row-even);\n",
              "  margin-bottom: 0;\n",
              "}\n",
              "\n",
              ".xr-var-item > .xr-var-name:hover span {\n",
              "  padding-right: 5px;\n",
              "}\n",
              "\n",
              ".xr-var-list > li:nth-child(odd) > div,\n",
              ".xr-var-list > li:nth-child(odd) > label,\n",
              ".xr-var-list > li:nth-child(odd) > .xr-var-name span {\n",
              "  background-color: var(--xr-background-color-row-odd);\n",
              "}\n",
              "\n",
              ".xr-var-name {\n",
              "  grid-column: 1;\n",
              "}\n",
              "\n",
              ".xr-var-dims {\n",
              "  grid-column: 2;\n",
              "}\n",
              "\n",
              ".xr-var-dtype {\n",
              "  grid-column: 3;\n",
              "  text-align: right;\n",
              "  color: var(--xr-font-color2);\n",
              "}\n",
              "\n",
              ".xr-var-preview {\n",
              "  grid-column: 4;\n",
              "}\n",
              "\n",
              ".xr-var-name,\n",
              ".xr-var-dims,\n",
              ".xr-var-dtype,\n",
              ".xr-preview,\n",
              ".xr-attrs dt {\n",
              "  white-space: nowrap;\n",
              "  overflow: hidden;\n",
              "  text-overflow: ellipsis;\n",
              "  padding-right: 10px;\n",
              "}\n",
              "\n",
              ".xr-var-name:hover,\n",
              ".xr-var-dims:hover,\n",
              ".xr-var-dtype:hover,\n",
              ".xr-attrs dt:hover {\n",
              "  overflow: visible;\n",
              "  width: auto;\n",
              "  z-index: 1;\n",
              "}\n",
              "\n",
              ".xr-var-attrs,\n",
              ".xr-var-data {\n",
              "  display: none;\n",
              "  background-color: var(--xr-background-color) !important;\n",
              "  padding-bottom: 5px !important;\n",
              "}\n",
              "\n",
              ".xr-var-attrs-in:checked ~ .xr-var-attrs,\n",
              ".xr-var-data-in:checked ~ .xr-var-data {\n",
              "  display: block;\n",
              "}\n",
              "\n",
              ".xr-var-data > table {\n",
              "  float: right;\n",
              "}\n",
              "\n",
              ".xr-var-name span,\n",
              ".xr-var-data,\n",
              ".xr-attrs {\n",
              "  padding-left: 25px !important;\n",
              "}\n",
              "\n",
              ".xr-attrs,\n",
              ".xr-var-attrs,\n",
              ".xr-var-data {\n",
              "  grid-column: 1 / -1;\n",
              "}\n",
              "\n",
              "dl.xr-attrs {\n",
              "  padding: 0;\n",
              "  margin: 0;\n",
              "  display: grid;\n",
              "  grid-template-columns: 125px auto;\n",
              "}\n",
              "\n",
              ".xr-attrs dt, dd {\n",
              "  padding: 0;\n",
              "  margin: 0;\n",
              "  float: left;\n",
              "  padding-right: 10px;\n",
              "  width: auto;\n",
              "}\n",
              "\n",
              ".xr-attrs dt {\n",
              "  font-weight: normal;\n",
              "  grid-column: 1;\n",
              "}\n",
              "\n",
              ".xr-attrs dt:hover span {\n",
              "  display: inline-block;\n",
              "  background: var(--xr-background-color);\n",
              "  padding-right: 10px;\n",
              "}\n",
              "\n",
              ".xr-attrs dd {\n",
              "  grid-column: 2;\n",
              "  white-space: pre-wrap;\n",
              "  word-break: break-all;\n",
              "}\n",
              "\n",
              ".xr-icon-database,\n",
              ".xr-icon-file-text2 {\n",
              "  display: inline-block;\n",
              "  vertical-align: middle;\n",
              "  width: 1em;\n",
              "  height: 1.5em !important;\n",
              "  stroke-width: 0;\n",
              "  stroke: currentColor;\n",
              "  fill: currentColor;\n",
              "}\n",
              "</style><div class='xr-wrap'><div class='xr-header'><div class='xr-obj-type'>xarray.Dataset</div></div><ul class='xr-sections'><li class='xr-section-item'><input id='section-c7d70bf1-b7aa-4571-9f2c-d129d59a1cfd' class='xr-section-summary-in' type='checkbox' disabled ><label for='section-c7d70bf1-b7aa-4571-9f2c-d129d59a1cfd' class='xr-section-summary'  title='Expand/collapse section'>Dimensions:</label><div class='xr-section-inline-details'><ul class='xr-dim-list'><li><span>hdi</span>: 2</li></ul></div><div class='xr-section-details'></div></li><li class='xr-section-item'><input id='section-ec3277db-0783-444d-8ff4-eb52e18f7b0f' class='xr-section-summary-in' type='checkbox' disabled ><label for='section-ec3277db-0783-444d-8ff4-eb52e18f7b0f' class='xr-section-summary'  title='Expand/collapse section'>Coordinates: <span>(0)</span></label><div class='xr-section-inline-details'></div><div class='xr-section-details'><ul class='xr-var-list'></ul></div></li><li class='xr-section-item'><input id='section-72be88c5-d73f-46a0-80d6-711107f69d2d' class='xr-section-summary-in' type='checkbox'  checked><label for='section-72be88c5-d73f-46a0-80d6-711107f69d2d' class='xr-section-summary' >Data variables: <span>(2)</span></label><div class='xr-section-inline-details'></div><div class='xr-section-details'><ul class='xr-var-list'><li class='xr-var-item'><div class='xr-var-name'><span>mu</span></div><div class='xr-var-dims'>(hdi)</div><div class='xr-var-dtype'>float64</div><div class='xr-var-preview xr-preview'>0.485 0.5147</div><input id='attrs-5f9e213c-7131-4e9c-9084-0b7bee38593f' class='xr-var-attrs-in' type='checkbox' disabled><label for='attrs-5f9e213c-7131-4e9c-9084-0b7bee38593f' title='Show/Hide attributes'><svg class='icon xr-icon-file-text2'><use xlink:href='#icon-file-text2'></use></svg></label><input id='data-7871e640-9f5e-46a3-8702-5f914a359a81' class='xr-var-data-in' type='checkbox'><label for='data-7871e640-9f5e-46a3-8702-5f914a359a81' title='Show/Hide data repr'><svg class='icon xr-icon-database'><use xlink:href='#icon-database'></use></svg></label><div class='xr-var-attrs'><dl class='xr-attrs'></dl></div><pre class='xr-var-data'>array([0.48503221, 0.51472119])</pre></li><li class='xr-var-item'><div class='xr-var-name'><span>sigma</span></div><div class='xr-var-dims'>(hdi)</div><div class='xr-var-dtype'>float64</div><div class='xr-var-preview xr-preview'>0.3379 0.359</div><input id='attrs-faefd94f-8bee-46b8-b4b0-13021083eb67' class='xr-var-attrs-in' type='checkbox' disabled><label for='attrs-faefd94f-8bee-46b8-b4b0-13021083eb67' title='Show/Hide attributes'><svg class='icon xr-icon-file-text2'><use xlink:href='#icon-file-text2'></use></svg></label><input id='data-089864d0-db63-4f16-81b2-15d8a35c4d6a' class='xr-var-data-in' type='checkbox'><label for='data-089864d0-db63-4f16-81b2-15d8a35c4d6a' title='Show/Hide data repr'><svg class='icon xr-icon-database'><use xlink:href='#icon-database'></use></svg></label><div class='xr-var-attrs'><dl class='xr-attrs'></dl></div><pre class='xr-var-data'>array([0.33787864, 0.35904937])</pre></li></ul></div></li><li class='xr-section-item'><input id='section-d36ffd15-fefa-4571-9c91-084f6b7f4ed6' class='xr-section-summary-in' type='checkbox' disabled ><label for='section-d36ffd15-fefa-4571-9c91-084f6b7f4ed6' class='xr-section-summary'  title='Expand/collapse section'>Attributes: <span>(0)</span></label><div class='xr-section-inline-details'></div><div class='xr-section-details'><dl class='xr-attrs'></dl></div></li></ul></div></div>"
            ],
            "text/plain": [
              "<xarray.Dataset>\n",
              "Dimensions:  (hdi: 2)\n",
              "Dimensions without coordinates: hdi\n",
              "Data variables:\n",
              "    mu       (hdi) float64 0.485 0.5147\n",
              "    sigma    (hdi) float64 0.3379 0.359"
            ]
          },
          "metadata": {
            "tags": []
          },
          "execution_count": 28
        }
      ]
    },
    {
      "cell_type": "code",
      "metadata": {
        "id": "trZtcn6a7RZV",
        "outputId": "eab8df11-d956-4b14-d8bc-156d5bd9e8b2",
        "colab": {
          "base_uri": "https://localhost:8080/",
          "height": 356
        }
      },
      "source": [
        "pm.plot_posterior(trace)\n",
        "plt.show()"
      ],
      "execution_count": null,
      "outputs": [
        {
          "output_type": "display_data",
          "data": {
            "image/png": "[encoded data removed]",
            "text/plain": [
              "<Figure size 993.6x331.2 with 2 Axes>"
            ]
          },
          "metadata": {
            "tags": [],
            "needs_background": "light"
          }
        }
      ]
    },
    {
      "cell_type": "markdown",
      "metadata": {
        "id": "LDR32FWdjLOL"
      },
      "source": [
        "The above posterior distributions are symmetric. Hence, their credible intervals can be obtained by Equal tailed interval or Highest Density Interval with identical results."
      ]
    },
    {
      "cell_type": "code",
      "metadata": {
        "id": "SW8JsUtTeJCM",
        "outputId": "f4d67f9b-3d8a-41b2-b3b8-3852b79a334b",
        "colab": {
          "base_uri": "https://localhost:8080/",
          "height": 34
        }
      },
      "source": [
        "trace['mu'].mean(), trace['sigma'].mean()"
      ],
      "execution_count": null,
      "outputs": [
        {
          "output_type": "execute_result",
          "data": {
            "text/plain": [
              "(0.4798247975740867, 0.3516320283595251)"
            ]
          },
          "metadata": {
            "tags": []
          },
          "execution_count": 84
        }
      ]
    },
    {
      "cell_type": "code",
      "metadata": {
        "id": "LAQ6ykXyeXO-",
        "outputId": "102d8796-f099-4b77-fa49-df0e129dc4af",
        "colab": {
          "base_uri": "https://localhost:8080/",
          "height": 34
        }
      },
      "source": [
        "# Equal tailed Credible intervals computed from quantiles\n",
        "\n",
        "np.percentile(trace['mu'], 2.5), np.percentile(trace['mu'], 97.5)"
      ],
      "execution_count": null,
      "outputs": [
        {
          "output_type": "execute_result",
          "data": {
            "text/plain": [
              "(0.4642970208374656, 0.49523882694955024)"
            ]
          },
          "metadata": {
            "tags": []
          },
          "execution_count": 85
        }
      ]
    },
    {
      "cell_type": "code",
      "metadata": {
        "id": "nDa1yQJDkNsX",
        "outputId": "8cbca4e7-fdb1-4bfb-d1b2-8b4443fd8789",
        "colab": {
          "base_uri": "https://localhost:8080/",
          "height": 68
        }
      },
      "source": [
        "# Highest Posterior Density interval\n",
        "pymc3.stats.hpd(trace['mu']), pymc3.stats.hpd(trace['sigma'])"
      ],
      "execution_count": null,
      "outputs": [
        {
          "output_type": "stream",
          "text": [
            "/usr/local/lib/python3.6/dist-packages/arviz/stats/stats.py:338: UserWarning: hpd will be deprecated Please replace hdi\n",
            "  warnings.warn((\"hpd will be deprecated \" \"Please replace hdi\"),)\n"
          ],
          "name": "stderr"
        },
        {
          "output_type": "execute_result",
          "data": {
            "text/plain": [
              "(array([0.46479511, 0.49358209]), array([0.34054003, 0.36175926]))"
            ]
          },
          "metadata": {
            "tags": []
          },
          "execution_count": 88
        }
      ]
    },
    {
      "cell_type": "code",
      "metadata": {
        "id": "QE4M3HNNfGrM",
        "outputId": "41c251de-e97d-4abe-c44f-37807e1dba97",
        "colab": {
          "base_uri": "https://localhost:8080/",
          "height": 34
        }
      },
      "source": [
        "np.percentile(trace['sigma'], 2.5), np.percentile(trace['sigma'], 97.5)"
      ],
      "execution_count": null,
      "outputs": [
        {
          "output_type": "execute_result",
          "data": {
            "text/plain": [
              "(0.34078438348044127, 0.36309985816157603)"
            ]
          },
          "metadata": {
            "tags": []
          },
          "execution_count": 86
        }
      ]
    },
    {
      "cell_type": "code",
      "metadata": {
        "id": "rmtVHi5mlNS8"
      },
      "source": [
        "# Generating an asymmetric distribution\n",
        "\n",
        "np_test_array = stats.expon.rvs(size=1000, scale=10)"
      ],
      "execution_count": null,
      "outputs": []
    },
    {
      "cell_type": "code",
      "metadata": {
        "id": "r7-f0Dc6lQGF",
        "outputId": "74421308-bebb-4bca-8068-f8d14a198c64",
        "colab": {
          "base_uri": "https://localhost:8080/",
          "height": 350
        }
      },
      "source": [
        "plt.hist(np_test_array)"
      ],
      "execution_count": null,
      "outputs": [
        {
          "output_type": "execute_result",
          "data": {
            "text/plain": [
              "(array([459., 241., 122.,  73.,  65.,  20.,   9.,   7.,   1.,   3.]),\n",
              " array([5.08599993e-03, 6.07234526e+00, 1.21396045e+01, 1.82068638e+01,\n",
              "        2.42741230e+01, 3.03413823e+01, 3.64086416e+01, 4.24759008e+01,\n",
              "        4.85431601e+01, 5.46104194e+01, 6.06776786e+01]),\n",
              " <a list of 10 Patch objects>)"
            ]
          },
          "metadata": {
            "tags": []
          },
          "execution_count": 36
        },
        {
          "output_type": "display_data",
          "data": {
            "image/png": "[encoded data removed]",
            "text/plain": [
              "<Figure size 432x288 with 1 Axes>"
            ]
          },
          "metadata": {
            "tags": [],
            "needs_background": "light"
          }
        }
      ]
    },
    {
      "cell_type": "code",
      "metadata": {
        "id": "uWwiHuj5gX8o",
        "outputId": "eefb0f63-cf1b-4544-a05b-4e5c0787f92d",
        "colab": {
          "base_uri": "https://localhost:8080/",
          "height": 347
        }
      },
      "source": [
        "pm.plot_posterior(np_test_array)"
      ],
      "execution_count": null,
      "outputs": [
        {
          "output_type": "execute_result",
          "data": {
            "text/plain": [
              "array([<matplotlib.axes._subplots.AxesSubplot object at 0x7ffb147b5748>],\n",
              "      dtype=object)"
            ]
          },
          "metadata": {
            "tags": []
          },
          "execution_count": 41
        },
        {
          "output_type": "display_data",
          "data": {
            "image/png": "[encoded data removed]",
            "text/plain": [
              "<Figure size 432x288 with 1 Axes>"
            ]
          },
          "metadata": {
            "tags": [],
            "needs_background": "light"
          }
        }
      ]
    },
    {
      "cell_type": "code",
      "metadata": {
        "id": "DQoOvptThDm3",
        "outputId": "6fee608c-5ac6-4ea5-89f8-de23ca841793",
        "colab": {
          "base_uri": "https://localhost:8080/",
          "height": 34
        }
      },
      "source": [
        "# Finding credible interval from quantile\n",
        "\n",
        "np.percentile(np_test_array, 2.5), np.percentile(np_test_array, 97.5)"
      ],
      "execution_count": null,
      "outputs": [
        {
          "output_type": "execute_result",
          "data": {
            "text/plain": [
              "(0.2976782981645411, 34.030278698541835)"
            ]
          },
          "metadata": {
            "tags": []
          },
          "execution_count": 44
        }
      ]
    },
    {
      "cell_type": "code",
      "metadata": {
        "id": "g40dh6cChN3a",
        "outputId": "b662949a-6256-495e-b4cc-0ca923a60ce9",
        "colab": {
          "base_uri": "https://localhost:8080/",
          "height": 68
        }
      },
      "source": [
        "# Computing credible intervals using highest posterior density \n",
        "pymc3.stats.hpd(np_test_array)"
      ],
      "execution_count": null,
      "outputs": [
        {
          "output_type": "stream",
          "text": [
            "/usr/local/lib/python3.6/dist-packages/arviz/stats/stats.py:338: UserWarning: hpd will be deprecated Please replace hdi\n",
            "  warnings.warn((\"hpd will be deprecated \" \"Please replace hdi\"),)\n"
          ],
          "name": "stderr"
        },
        {
          "output_type": "execute_result",
          "data": {
            "text/plain": [
              "array([5.08599993e-03, 2.83526865e+01])"
            ]
          },
          "metadata": {
            "tags": []
          },
          "execution_count": 43
        }
      ]
    },
    {
      "cell_type": "markdown",
      "metadata": {
        "id": "QPf2wESBl9EK"
      },
      "source": [
        "In the above case with asymmetric distribution, the credible intervals obtained from equal tailed technique are different from that obtained from HDI."
      ]
    },
    {
      "cell_type": "markdown",
      "metadata": {
        "id": "COFoQ3sm7Nz4"
      },
      "source": [
        "### References\n",
        "* https://www.ncbi.nlm.nih.gov/pmc/articles/PMC6386284/\n",
        "* http://www2.stat.duke.edu/~rcs46/lecturesModernBayes/601-module3-morebayes/lecture5-more-bayes.pdf\n",
        "* https://jakevdp.github.io/blog/2014/06/12/frequentism-and-bayesianism-3-confidence-credibility/#:~:text=When%20trying%20to%20estimate%20the,a%20credible%20region%20(CR)."
      ]
    }
  ]
}